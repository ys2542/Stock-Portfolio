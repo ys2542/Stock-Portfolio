{
 "cells": [
  {
   "cell_type": "code",
   "execution_count": 6,
   "metadata": {},
   "outputs": [],
   "source": [
    "import sys\n",
    "import numpy as np\n",
    "from itertools import takewhile\n",
    "import logging\n",
    "from logbuilder import buildLogger\n",
    "from scipy import optimize\n",
    "\n",
    "\"\"\"\n",
    "def searchOpt(C):\n",
    "\n",
    "    @C: historical prices with corr high than rho\n",
    "\n",
    "    numAssets = C.shape[0]\n",
    "    logger = logging.getLogger('CORN') \n",
    "    \n",
    "    b = cp.Variable(numAssets, pos = True)\n",
    "    prob = cp.Problem(cp.Minimize(-1 * cp.sum(cp.log(C.T * b))), [cp.sum(b) == 1])\n",
    "    logger.debug('Solving Problem: ' + str(prob.solve(solver = 'SCS', warm_start = True)))\n",
    "    return np.array(b.value)\n",
    "    \n",
    "\"\"\"\n",
    "\n",
    "def searchOpt(C):\n",
    "    numAssets = C.shape[0]\n",
    "    b = np.zeros(numAssets)\n",
    "    objective = lambda y: -np.sum(np.log(np.maximum((C - 1).T * y + 1, 1e-6)))\n",
    "    cons = ({'type': 'eq', 'fun': lambda b: 1 - sum(b)},)\n",
    "    res = optimize.minimize(objective, b, bounds= [[(0,1)] * numAssets][0] , constraints=cons, method='slsqp', options={\"ftol\": 1e-16})\n",
    "    return np.array(res.x)\n",
    "\n",
    "\n",
    "class expert():\n",
    "    def __init__(self, rho, timeWindow, initialWealth = 1):\n",
    "        \"\"\"\n",
    "        initialize:\n",
    "        @rho: correlation threshold\n",
    "        @timeWindow: specific time windows\n",
    "        @initialWealth: wealth\n",
    "        \"\"\"\n",
    "        self.rho =rho\n",
    "        self.timeWindow = timeWindow\n",
    "        self.wealth = initialWealth\n",
    "\n",
    "    def __eq__(self, other):\n",
    "        \"\"\"\n",
    "        Used for wealth ranking\n",
    "        \"\"\"\n",
    "        return self.wealth == other.wealth\n",
    "\n",
    "    def __lt__(self, other):\n",
    "        \"\"\"\n",
    "        Used for wealth ranking\n",
    "        \"\"\"\n",
    "        return self.wealth < other.wealth\n",
    "\n",
    "    def learning(self, Xh):\n",
    "        \"\"\"\n",
    "        @Xh: historical prices until time t, m*(t-1)\n",
    "        Return:\n",
    "        @portfolio: array of weights put on each assets\n",
    "        \"\"\"\n",
    "        # Use h instead of t here since h = t-1\n",
    "        numAssets, h = Xh.shape\n",
    "        self.portfolio = np.ones(numAssets)/numAssets\n",
    "        # if have reached w(timeWindow) + 1 days\n",
    "        if h > self.timeWindow:\n",
    "            indexSet = [np.corrcoef(Xh[:,-self.timeWindow:].reshape(-1), Xh[:,i-self.timeWindow: i].reshape(-1))[1][0] >= self.rho\\\n",
    "                        for i in range(self.timeWindow ,h)]\n",
    "            if sum(indexSet) > 0:\n",
    "                self.portfolio = searchOpt(Xh[:,self.timeWindow:][:,indexSet])\n",
    "        return self.portfolio\n",
    "    def update(self, xt):\n",
    "        \"\"\"\n",
    "        Update at the end of the day\n",
    "        @xt: prices of the current trading day\n",
    "        \"\"\"\n",
    "        self.wealth *= np.sum(self.portfolio * xt)\n",
    "\n",
    "\n",
    "\n",
    "def combine(portfolioSet, wealthSet, q):\n",
    "    \"\"\"\n",
    "    Combine the experts' portfolios\n",
    "    @portfolioSet: array of portfolios, W * m(numAssets)\n",
    "    @wealthSet: array of experts' current wealth, W\n",
    "    @q: array of probability distribution function, W\n",
    "    \"\"\"\n",
    "    nome = np.sum(portfolioSet.T * wealthSet * q, axis = 1)\n",
    "    deno = np.sum(wealthSet * q)\n",
    "    return nome/deno\n",
    "\n",
    "\n",
    "def checkParams(**kwargs):\n",
    "    if \"rho\" in kwargs:\n",
    "        return False\n",
    "    elif not \"P\" in kwargs and \"K\" in kwargs:\n",
    "        raise ValueError(\"Definition for both P and K are required for CORNK\")\n",
    "    return True\n",
    "\n",
    "\n",
    "def CORN(X, W, **kwargs):\n",
    "    \"\"\"\n",
    "    main algorithm\n",
    "    @W: maximum time window length\n",
    "    @X: historical prices matrix, m(numAssets) * T\n",
    "    There are two set of possible optional parameters:\n",
    "    CORNU:\n",
    "    @rho: correlation threshold\n",
    "    CORNK:\n",
    "    @P: max number of correlation thresholds\n",
    "    @K: the value of K for top-K\n",
    "    \"\"\"\n",
    "    logger = logging.getLogger('CORN')\n",
    "    IS_CORNK = checkParams(**kwargs)\n",
    "    # Initialize weights q and wealth\n",
    "    wealth = 1\n",
    "    wealthRecord = [1]\n",
    "    numAssets, T = X.shape\n",
    "    if IS_CORNK:\n",
    "        K = kwargs[\"K\"]\n",
    "        P = kwargs[\"P\"]\n",
    "        q = np.ones(W*P)/(W*P)\n",
    "        rhoSet = np.arange(P)/P\n",
    "        expertPort = [expert(rho,w) for w in range(1,W+1) for rho in rhoSet]\n",
    "    else:\n",
    "        rho = kwargs[\"rho\"]\n",
    "        q = np.ones(W)/W\n",
    "        expertPort = [expert(rho,w) for w in range(1,W+1)]\n",
    "\n",
    "    for t in range(T):\n",
    "        if t%100 == 1:\n",
    "            print(t)\n",
    "        logger.info('Start Day ' + str(t))\n",
    "        portfolioSet = [expertI.learning(X[:,:t]) for expertI in expertPort]\n",
    "        wealthSet = [expertI.wealth for expertI in expertPort]\n",
    "        portfolioOverall = combine(np.array(portfolioSet), np.array(wealthSet), q)\n",
    "        wealth *= np.sum(portfolioOverall * X[:,t])\n",
    "        for expertI in expertPort:\n",
    "            expertI.update(X[:,t])\n",
    "        logger.info('End Day with wealth '+ str(wealth))\n",
    "        wealthRecord.append(wealth)\n",
    "        if IS_CORNK:\n",
    "            topK = np.argsort(expertPort)[:K]\n",
    "            logger.debug(\"The top K experts are: \" +  str(topK))\n",
    "            q.fill(0)\n",
    "            q[topK] = 1/K\n",
    "    return wealthRecord"
   ]
  },
  {
   "cell_type": "code",
   "execution_count": 2,
   "metadata": {},
   "outputs": [],
   "source": [
    "import pickle as pkl\n",
    "X = pkl.load(open(\"nyse_o_np.pkl\", \"rb\"))\n",
    "T = 1000\n",
    "X = X[:,:T]"
   ]
  },
  {
   "cell_type": "code",
   "execution_count": 3,
   "metadata": {},
   "outputs": [
    {
     "data": {
      "text/plain": [
       "(36, 1000)"
      ]
     },
     "execution_count": 3,
     "metadata": {},
     "output_type": "execute_result"
    }
   ],
   "source": [
    "X.shape"
   ]
  },
  {
   "cell_type": "code",
   "execution_count": 7,
   "metadata": {},
   "outputs": [
    {
     "name": "stdout",
     "output_type": "stream",
     "text": [
      "1\n",
      "101\n",
      "201\n",
      "301\n",
      "401\n",
      "501\n",
      "601\n",
      "701\n",
      "801\n",
      "901\n"
     ]
    }
   ],
   "source": [
    "import time\n",
    "start = time.time()\n",
    "wr = CORN(X, 7, rho = 0.4)\n",
    "end = time.time()"
   ]
  },
  {
   "cell_type": "code",
   "execution_count": 8,
   "metadata": {},
   "outputs": [
    {
     "data": {
      "text/plain": [
       "635.9695498943329"
      ]
     },
     "execution_count": 8,
     "metadata": {},
     "output_type": "execute_result"
    }
   ],
   "source": [
    "end - start"
   ]
  },
  {
   "cell_type": "code",
   "execution_count": 9,
   "metadata": {},
   "outputs": [],
   "source": [
    "from couru_multi2 import CORNU\n",
    "import time\n",
    "start = time.time()\n",
    "wr, pr = CORNU(0.4, 7, X)\n",
    "end = time.time()"
   ]
  },
  {
   "cell_type": "code",
   "execution_count": 10,
   "metadata": {},
   "outputs": [
    {
     "data": {
      "text/plain": [
       "55.82414436340332"
      ]
     },
     "execution_count": 10,
     "metadata": {},
     "output_type": "execute_result"
    }
   ],
   "source": [
    "end - start"
   ]
  },
  {
   "cell_type": "code",
   "execution_count": 16,
   "metadata": {},
   "outputs": [],
   "source": [
    "from itertools import accumulate\n",
    "from operator import mul\n",
    "X_cum = [list(accumulate(i, mul)) for i in X]"
   ]
  },
  {
   "cell_type": "code",
   "execution_count": 24,
   "metadata": {},
   "outputs": [
    {
     "data": {
      "text/plain": [
       "<matplotlib.legend.Legend at 0x1696ddef240>"
      ]
     },
     "execution_count": 24,
     "metadata": {},
     "output_type": "execute_result"
    },
    {
     "data": {
      "image/png": "[encoded data removed]",
      "text/plain": [
       "<Figure size 432x288 with 1 Axes>"
      ]
     },
     "metadata": {
      "needs_background": "light"
     },
     "output_type": "display_data"
    }
   ],
   "source": [
    "import matplotlib.pyplot as plt\n",
    "plt.plot(np.arange(1000), np.array(X_cum).T)\n",
    "plt.plot(np.arange(1000),wr[:1000], label = \"CORNU\")\n",
    "plt.xlabel(\"Days\")\n",
    "plt.ylabel(\"Cumulative Wealth\")\n",
    "plt.legend()"
   ]
  },
  {
   "cell_type": "code",
   "execution_count": null,
   "metadata": {},
   "outputs": [],
   "source": []
  }
 ],
 "metadata": {
  "kernelspec": {
   "display_name": "Python 3",
   "language": "python",
   "name": "python3"
  },
  "language_info": {
   "codemirror_mode": {
    "name": "ipython",
    "version": 3
   },
   "file_extension": ".py",
   "mimetype": "text/x-python",
   "name": "python",
   "nbconvert_exporter": "python",
   "pygments_lexer": "ipython3",
   "version": "3.6.8"
  }
 },
 "nbformat": 4,
 "nbformat_minor": 2
}
